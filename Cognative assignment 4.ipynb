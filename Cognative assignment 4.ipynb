{
 "cells": [
  {
   "cell_type": "markdown",
   "id": "3a2885f3-a4d6-4d8d-968a-079f0082194e",
   "metadata": {},
   "source": [
    "Q.1 Write a program to create a NumPy 1D-array with 5 elements and perform basic \r\n",
    "operations like: \r\n",
    "a) Addition of 2 in all the element  \r\n",
    "b) Multiply 3 with all the elements \r\n",
    "c) Divide every element by 2 d_ ucs420_<your_name>>.d_ ucs420_<your_name>>."
   ]
  },
  {
   "cell_type": "code",
   "execution_count": 13,
   "id": "5efd4517-6ed1-4658-8491-d5285d43f2b9",
   "metadata": {},
   "outputs": [
    {
     "name": "stdout",
     "output_type": "stream",
     "text": [
      "After addition: [3 4 5 6 7]\n",
      "After multiplication: [ 3  6  9 12 15]\n",
      "After division: [0.5 1.  1.5 2.  2.5]\n"
     ]
    }
   ],
   "source": [
    "import numpy as np\n",
    "\n",
    "# Create a 1D NumPy array with 5 elements\n",
    "arr = np.array([1, 2, 3, 4, 5])\n",
    "\n",
    "# (a) Addition of 2 to all elements\n",
    "arr_add = arr + 2\n",
    "print(\"After addition:\", arr_add)\n",
    "\n",
    "# (b) Multiplication of all elements by 3\n",
    "arr_mult = arr * 3\n",
    "print(\"After multiplication:\", arr_mult)\n",
    "\n",
    "# (c) Division of all elements by 2\n",
    "arr_div = arr / 2\n",
    "print(\"After division:\", arr_div)\n"
   ]
  },
  {
   "cell_type": "markdown",
   "id": "c2fd430d-eda1-4975-a34d-9007cb37cc05",
   "metadata": {},
   "source": [
    "Q.2 Questions on Basic NumPy Array: \r\n",
    "a) Reverse the NumPy array: arr = np.array([1, 2, 3, 6, 4, 5]) \r\n",
    "b) Find the most frequent value and their indice(s) in the following arrays: \r\n",
    "i. x = np.array([1,2,3,4,5,1,2,1,1,1]) \r\n",
    "ii. y = np.array([1, 1, 1, 2, 3, 4, 2, 4, 3, 3, ])"
   ]
  },
  {
   "cell_type": "markdown",
   "id": "bac3a32a-c3cf-42f6-a152-6b5d7e88c87e",
   "metadata": {},
   "source": [
    "(a) Reverse the NumPy array"
   ]
  },
  {
   "cell_type": "code",
   "execution_count": 15,
   "id": "15ebfc3e-5d24-4086-a46e-3699fcee1610",
   "metadata": {},
   "outputs": [
    {
     "name": "stdout",
     "output_type": "stream",
     "text": [
      "Reversed Array: [5 4 6 3 2 1]\n"
     ]
    }
   ],
   "source": [
    "import numpy as np\n",
    "\n",
    "arr = np.array([1, 2, 3, 6, 4, 5])\n",
    "arr_reversed = arr[::-1]\n",
    "print(\"Reversed Array:\", arr_reversed)\n"
   ]
  },
  {
   "cell_type": "markdown",
   "id": "380a1be5-a23f-4b41-9327-93b3c0243187",
   "metadata": {},
   "source": [
    "(b) Find the most frequent value and its indices\n"
   ]
  },
  {
   "cell_type": "code",
   "execution_count": 17,
   "id": "b6896899-6e38-4717-a66e-89d40d7e55a7",
   "metadata": {},
   "outputs": [
    {
     "name": "stdout",
     "output_type": "stream",
     "text": [
      "Most frequent value in x: 1, Indices: [0 5 7 8 9]\n",
      "Most frequent value in y: 1, Indices: [0 1 2]\n"
     ]
    }
   ],
   "source": [
    "import numpy as np\n",
    "\n",
    "# Function to find the most frequent value and its indices\n",
    "def most_frequent(arr):\n",
    "    values, counts = np.unique(arr, return_counts=True)\n",
    "    max_freq_value = values[np.argmax(counts)]\n",
    "    indices = np.where(arr == max_freq_value)\n",
    "    return max_freq_value, indices[0]\n",
    "\n",
    "# (i) For x array\n",
    "x = np.array([1, 2, 3, 4, 5, 1, 2, 1, 1, 1])\n",
    "max_val_x, indices_x = most_frequent(x)\n",
    "print(f\"Most frequent value in x: {max_val_x}, Indices: {indices_x}\")\n",
    "\n",
    "# (ii) For y array\n",
    "y = np.array([1, 1, 1, 2, 3, 4, 2, 4, 3, 3])\n",
    "max_val_y, indices_y = most_frequent(y)\n",
    "print(f\"Most frequent value in y: {max_val_y}, Indices: {indices_y}\")\n"
   ]
  },
  {
   "cell_type": "markdown",
   "id": "7c78cfb5-c781-47d0-bcae-d32faa50d81f",
   "metadata": {},
   "source": [
    "Q.3 For the given 2-D array arr=np.array([10, 20, 30], [40, 50, 60], [70, 80, 90]), access \r\n",
    "elements using row and column indices as follows: \r\n",
    "a) Access 1st row, 2nd column  \r\n",
    "b) Access 3rd row, 1st column "
   ]
  },
  {
   "cell_type": "code",
   "execution_count": 19,
   "id": "daf58ce7-f91e-422c-8aaf-2baa4a46cf79",
   "metadata": {},
   "outputs": [
    {
     "name": "stdout",
     "output_type": "stream",
     "text": [
      "Element at 1st row, 2nd column: 20\n",
      "Element at 3rd row, 1st column: 70\n"
     ]
    }
   ],
   "source": [
    "import numpy as np\n",
    "\n",
    "arr = np.array([[10, 20, 30], \n",
    "                [40, 50, 60], \n",
    "                [70, 80, 90]])\n",
    "\n",
    "# (a) Access 1st row, 2nd column\n",
    "print(\"Element at 1st row, 2nd column:\", arr[0, 1])\n",
    "\n",
    "# (b) Access 3rd row, 1st column\n",
    "print(\"Element at 3rd row, 1st column:\", arr[2, 0])\n"
   ]
  },
  {
   "cell_type": "markdown",
   "id": "ccffa793-7e0c-4c23-8315-b7eff4c935a4",
   "metadata": {},
   "source": [
    "Q.4 Write program to create an 1-D NumPy array named <<Your Name>> with evenly \r\n",
    "spaced 25 numbers from 10 to 100 using linspace(). Print the dimensions of the array, \r\n",
    "shape, total elements, the data type of each element and total number of bytes consumed \r\n",
    "by the array. Find the transpose of this array using reshape() attribute. Can we do the same \r\n",
    "with T attribute? "
   ]
  },
  {
   "cell_type": "code",
   "execution_count": 21,
   "id": "0b774ba1-31a1-40da-8c02-584187957cfb",
   "metadata": {},
   "outputs": [
    {
     "name": "stdout",
     "output_type": "stream",
     "text": [
      "Array: [ 10.    13.75  17.5   21.25  25.    28.75  32.5   36.25  40.    43.75\n",
      "  47.5   51.25  55.    58.75  62.5   66.25  70.    73.75  77.5   81.25\n",
      "  85.    88.75  92.5   96.25 100.  ]\n",
      "Dimensions: 1\n",
      "Shape: (25,)\n",
      "Total elements: 25\n",
      "Data type: float64\n",
      "Total bytes consumed: 200\n",
      "Transposed Array using reshape:\n",
      " [[ 10.  ]\n",
      " [ 13.75]\n",
      " [ 17.5 ]\n",
      " [ 21.25]\n",
      " [ 25.  ]\n",
      " [ 28.75]\n",
      " [ 32.5 ]\n",
      " [ 36.25]\n",
      " [ 40.  ]\n",
      " [ 43.75]\n",
      " [ 47.5 ]\n",
      " [ 51.25]\n",
      " [ 55.  ]\n",
      " [ 58.75]\n",
      " [ 62.5 ]\n",
      " [ 66.25]\n",
      " [ 70.  ]\n",
      " [ 73.75]\n",
      " [ 77.5 ]\n",
      " [ 81.25]\n",
      " [ 85.  ]\n",
      " [ 88.75]\n",
      " [ 92.5 ]\n",
      " [ 96.25]\n",
      " [100.  ]]\n",
      "Using T attribute does not work for 1D array: [ 10.    13.75  17.5   21.25  25.    28.75  32.5   36.25  40.    43.75\n",
      "  47.5   51.25  55.    58.75  62.5   66.25  70.    73.75  77.5   81.25\n",
      "  85.    88.75  92.5   96.25 100.  ]\n"
     ]
    }
   ],
   "source": [
    "import numpy as np\n",
    "\n",
    "# Create a 1D NumPy array using linspace\n",
    "aptik_pandey = np.linspace(10, 100, 25)\n",
    "\n",
    "# Print required details\n",
    "print(\"Array:\", aptik_pandey)\n",
    "print(\"Dimensions:\", aptik_pandey.ndim)\n",
    "print(\"Shape:\", aptik_pandey.shape)\n",
    "print(\"Total elements:\", aptik_pandey.size)\n",
    "print(\"Data type:\", aptik_pandey.dtype)\n",
    "print(\"Total bytes consumed:\", aptik_pandey.nbytes)\n",
    "\n",
    "# Find the transpose using reshape\n",
    "transposed_array = aptik_pandey.reshape(25, 1)\n",
    "print(\"Transposed Array using reshape:\\n\", transposed_array)\n",
    "\n",
    "# Check if T attribute can do the same\n",
    "print(\"Using T attribute does not work for 1D array:\", aptik_pandey.T)\n"
   ]
  },
  {
   "cell_type": "markdown",
   "id": "13b57c99-1ac6-45d4-99c1-339cf2781684",
   "metadata": {},
   "source": [
    "Q5. Create a 2-D Array of three rows and four columns, named ucs420_<your_name>> \r\n",
    "with following values – 10, 20, 30, 40, 50, 60, 70, 80, 90, 15, 20, 35. Compute the mean, \r\n",
    "median, max, min, unique elements. Reshape the array to four rows and three columns and \r\n",
    "name it as reshaped_ ucs420_<your_name>>. Resize the array to two rows and three \r\n",
    "columns and name it as resized_ ucs420_<your_namment"
   ]
  },
  {
   "cell_type": "code",
   "execution_count": 23,
   "id": "a0bb81ef-d520-416b-b0dd-c87488066795",
   "metadata": {},
   "outputs": [
    {
     "name": "stdout",
     "output_type": "stream",
     "text": [
      "Mean: 43.333333333333336\n",
      "Median: 37.5\n",
      "Max value: 90\n",
      "Min value: 10\n",
      "Unique elements: [10 15 20 30 35 40 50 60 70 80 90]\n",
      "Reshaped Array (4x3):\n",
      " [[10 20 30]\n",
      " [40 50 60]\n",
      " [70 80 90]\n",
      " [15 20 35]]\n",
      "Resized Array (2x3):\n",
      " [[10 20 30]\n",
      " [40 50 60]]\n"
     ]
    }
   ],
   "source": [
    "import numpy as np\n",
    "\n",
    "# Create a 2D NumPy array\n",
    "ucs420_aptik = np.array([[10, 20, 30, 40], \n",
    "                         [50, 60, 70, 80], \n",
    "                         [90, 15, 20, 35]])\n",
    "\n",
    "# Compute statistics\n",
    "print(\"Mean:\", np.mean(ucs420_aptik))\n",
    "print(\"Median:\", np.median(ucs420_aptik))\n",
    "print(\"Max value:\", np.max(ucs420_aptik))\n",
    "print(\"Min value:\", np.min(ucs420_aptik))\n",
    "print(\"Unique elements:\", np.unique(ucs420_aptik))\n",
    "\n",
    "# Reshape the array to 4 rows and 3 columns\n",
    "reshaped_ucs420_aptik = ucs420_aptik.reshape(4, 3)\n",
    "print(\"Reshaped Array (4x3):\\n\", reshaped_ucs420_aptik)\n",
    "\n",
    "# Resize the array to 2 rows and 3 columns\n",
    "resized_ucs420_aptik = np.resize(ucs420_aptik, (2, 3))\n",
    "print(\"Resized Array (2x3):\\n\", resized_ucs420_aptik)\n"
   ]
  },
  {
   "cell_type": "code",
   "execution_count": null,
   "id": "0800d7cc-8a4c-48a9-bb99-bd1e647b3c14",
   "metadata": {},
   "outputs": [],
   "source": []
  }
 ],
 "metadata": {
  "kernelspec": {
   "display_name": "anaconda-2024.02-py310",
   "language": "python",
   "name": "conda-env-anaconda-2024.02-py310-py"
  },
  "language_info": {
   "codemirror_mode": {
    "name": "ipython",
    "version": 3
   },
   "file_extension": ".py",
   "mimetype": "text/x-python",
   "name": "python",
   "nbconvert_exporter": "python",
   "pygments_lexer": "ipython3",
   "version": "3.10.14"
  }
 },
 "nbformat": 4,
 "nbformat_minor": 5
}
