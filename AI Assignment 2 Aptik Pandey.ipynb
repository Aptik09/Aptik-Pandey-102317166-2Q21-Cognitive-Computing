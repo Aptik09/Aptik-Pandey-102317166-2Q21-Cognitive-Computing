{
 "cells": [
  {
   "cell_type": "code",
   "execution_count": 1,
   "id": "dd648fbc-6763-4be8-b2e4-1406c044ef93",
   "metadata": {},
   "outputs": [
    {
     "name": "stdout",
     "output_type": "stream",
     "text": [
      "Solution Moves: ['Left', 'Up', 'Left', 'Down', 'Right', 'Right', 'Up', 'Left', 'Left', 'Down', 'Right', 'Right']\n"
     ]
    }
   ],
   "source": [
    "#Write a code in python for the 8 puzzle problem by taking the following initial and final states\n",
    "from queue import PriorityQueue\n",
    "\n",
    "class PuzzleNode:\n",
    "    def __init__(self, state, parent, move, depth, cost):\n",
    "        self.state = state\n",
    "        self.parent = parent\n",
    "        self.move = move\n",
    "        self.depth = depth\n",
    "        self.cost = cost\n",
    "\n",
    "    def __lt__(self, other):\n",
    "        return self.cost < other.cost\n",
    "\n",
    "def get_moves(state):\n",
    "    moves = []\n",
    "    zero_index = state.index(0)\n",
    "    row, col = zero_index // 3, zero_index % 3\n",
    "    directions = {'Up': (-1, 0), 'Down': (1, 0), 'Left': (0, -1), 'Right': (0, 1)}\n",
    "\n",
    "    for move, (dr, dc) in directions.items():\n",
    "        new_row, new_col = row + dr, col + dc\n",
    "        if 0 <= new_row < 3 and 0 <= new_col < 3:\n",
    "            new_index = new_row * 3 + new_col\n",
    "            new_state = state[:]\n",
    "            new_state[zero_index], new_state[new_index] = new_state[new_index], new_state[zero_index]\n",
    "            moves.append((move, new_state))\n",
    "    return moves\n",
    "\n",
    "def heuristic(state, goal):\n",
    "    return sum(abs((val-1) % 3 - (goal.index(val) % 3)) + abs((val-1) // 3 - (goal.index(val) // 3)) for val in state if val != 0)\n",
    "\n",
    "def solve_puzzle(start, goal):\n",
    "    open_list = PriorityQueue()\n",
    "    open_list.put(PuzzleNode(start, None, None, 0, heuristic(start, goal)))\n",
    "    visited = set()\n",
    "    \n",
    "    while not open_list.empty():\n",
    "        node = open_list.get()\n",
    "        if node.state == goal:\n",
    "            moves = []\n",
    "            while node.parent:\n",
    "                moves.append(node.move)\n",
    "                node = node.parent\n",
    "            return moves[::-1]\n",
    "\n",
    "        visited.add(tuple(node.state))\n",
    "        for move, new_state in get_moves(node.state):\n",
    "            if tuple(new_state) not in visited:\n",
    "                new_cost = node.depth + 1 + heuristic(new_state, goal)\n",
    "                open_list.put(PuzzleNode(new_state, node, move, node.depth + 1, new_cost))\n",
    "\n",
    "    return None\n",
    "\n",
    "start_state = [1, 2, 3, 8, 4, 0, 7, 6, 5]\n",
    "goal_state = [2, 8, 1, 4, 3, 0, 7, 6, 5]\n",
    "\n",
    "solution = solve_puzzle(start_state, goal_state)\n",
    "print(\"Solution Moves:\", solution)\n"
   ]
  },
  {
   "cell_type": "code",
   "execution_count": 3,
   "id": "618883ef-a76d-4fa8-9815-b75f29c7b288",
   "metadata": {},
   "outputs": [
    {
     "name": "stdout",
     "output_type": "stream",
     "text": [
      "Solution Found: (4, 2)\n"
     ]
    }
   ],
   "source": [
    "#Given two jugs- a 4 liter and 3 liter capacity. Neither has any measurable markers on it. There\n",
    "#is a pump which can be used to fill the jugs with water. Simulate the procedure in Python to get\n",
    "#exactly 2 liter of water into 4-liter jug\n",
    "#from collections import deque\n",
    "\n",
    "def water_jug_bfs(capacity1, capacity2, target):\n",
    "    visited = set()\n",
    "    queue = deque([(0, 0)])  \n",
    "\n",
    "    while queue:\n",
    "        jug1, jug2 = queue.popleft()\n",
    "        \n",
    "        if jug1 == target or jug2 == target:\n",
    "            return f\"Solution Found: ({jug1}, {jug2})\"\n",
    "\n",
    "        if (jug1, jug2) in visited:\n",
    "            continue\n",
    "        visited.add((jug1, jug2))\n",
    "\n",
    "        queue.append((capacity1, jug2))  \n",
    "        queue.append((jug1, capacity2))  \n",
    "        queue.append((0, jug2))          \n",
    "        queue.append((jug1, 0))          \n",
    "\n",
    "        pour = min(jug1, capacity2 - jug2)\n",
    "        queue.append((jug1 - pour, jug2 + pour))\n",
    "\n",
    "        pour = min(jug2, capacity1 - jug1)\n",
    "        queue.append((jug1 + pour, jug2 - pour))\n",
    "\n",
    "    return \"No solution\"\n",
    "\n",
    "print(water_jug_bfs(4, 3, 2))\n"
   ]
  },
  {
   "cell_type": "code",
   "execution_count": 6,
   "id": "86a60d1b-c46b-4b9e-9e5a-d405b5620201",
   "metadata": {},
   "outputs": [
    {
     "name": "stdin",
     "output_type": "stream",
     "text": [
      "Enter starting node (0-3):  2\n"
     ]
    },
    {
     "name": "stdout",
     "output_type": "stream",
     "text": [
      "Minimum cost: 80\n"
     ]
    }
   ],
   "source": [
    "from itertools import permutations\n",
    "\n",
    "def tsp(graph, start):\n",
    "    n = len(graph)\n",
    "    vertices = [i for i in range(n) if i != start]\n",
    "    min_path = float('inf')\n",
    "\n",
    "    for perm in permutations(vertices):\n",
    "        current_pathweight = 0\n",
    "        k = start\n",
    "        for j in perm:\n",
    "            current_pathweight += graph[k][j]\n",
    "            k = j\n",
    "        current_pathweight += graph[k][start]  # Returning to starting node\n",
    "        min_path = min(min_path, current_pathweight)\n",
    "\n",
    "    return min_path\n",
    "\n",
    "graph = [\n",
    "    [0, 10, 15, 20],  \n",
    "    [10, 0, 35, 25],  \n",
    "    [15, 35, 0, 30],  \n",
    "    [20, 25, 30, 0]   \n",
    "]\n",
    "\n",
    "start_node = int(input(\"Enter starting node (0-3): \"))  \n",
    "print(\"Minimum cost:\", tsp(graph, start_node))\n"
   ]
  },
  {
   "cell_type": "code",
   "execution_count": null,
   "id": "6a15cd46-6f32-4739-98a2-7c3ff4b279f6",
   "metadata": {},
   "outputs": [],
   "source": []
  }
 ],
 "metadata": {
  "kernelspec": {
   "display_name": "Python 3 (ipykernel)",
   "language": "python",
   "name": "python3"
  },
  "language_info": {
   "codemirror_mode": {
    "name": "ipython",
    "version": 3
   },
   "file_extension": ".py",
   "mimetype": "text/x-python",
   "name": "python",
   "nbconvert_exporter": "python",
   "pygments_lexer": "ipython3",
   "version": "3.13.1"
  }
 },
 "nbformat": 4,
 "nbformat_minor": 5
}
