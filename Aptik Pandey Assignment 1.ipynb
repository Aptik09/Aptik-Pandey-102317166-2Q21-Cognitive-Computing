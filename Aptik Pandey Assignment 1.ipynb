{
 "cells": [
  {
   "cell_type": "code",
   "execution_count": 1,
   "id": "9a6dd413-ec30-462c-8b9c-ded55d8f358e",
   "metadata": {},
   "outputs": [
    {
     "name": "stdout",
     "output_type": "stream",
     "text": [
      "Aptik Anand Raj Divaker Kumar Pandey\n",
      "Aptik Anand Raj Divaker Kumar Pandey\n",
      "Aptik Anand Raj Divaker Kumar Pandey\n"
     ]
    }
   ],
   "source": [
    "'''WAP to print your name there times'''\n",
    "for i in range(3):\n",
    "    print('Aptik Anand Raj Divaker Kumar Pandey')"
   ]
  },
  {
   "cell_type": "code",
   "execution_count": 2,
   "id": "ca2f505b-0fd5-4af2-8b1f-34a3c3fa8af7",
   "metadata": {},
   "outputs": [
    {
     "name": "stdout",
     "output_type": "stream",
     "text": [
      "Summ of  2 + 3 + 5 = 10\n"
     ]
    }
   ],
   "source": [
    "'''WAP to add theree numbers and print the result'''\n",
    "\n",
    "a=2\n",
    "b=3\n",
    "c=5\n",
    "print(\"Summ of \",a,'+',b,'+',c,'=',a+b+c)"
   ]
  },
  {
   "cell_type": "code",
   "execution_count": 4,
   "id": "b7828718-59a4-44ad-a266-bddb043e1fca",
   "metadata": {},
   "outputs": [
    {
     "name": "stdout",
     "output_type": "stream",
     "text": [
      "My Name is + Aptik + Pandey = My Name is Aptik Pandey\n"
     ]
    }
   ],
   "source": [
    "'''WAP to concatinate three strings and print the result'''\n",
    "\n",
    "a='My Name is'\n",
    "b=\"Aptik\"\n",
    "c='''Pandey'''\n",
    "print(a,'+',b,'+',c,'=',a+' '+b+' '+c)"
   ]
  },
  {
   "cell_type": "code",
   "execution_count": 6,
   "id": "71a3d310-5b42-48b2-98b0-ecd8bd9f722a",
   "metadata": {},
   "outputs": [
    {
     "name": "stdout",
     "output_type": "stream",
     "text": [
      "7 * 1 = 7\n",
      "7 * 2 = 14\n",
      "7 * 3 = 21\n",
      "7 * 4 = 28\n",
      "7 * 5 = 35\n",
      "7 * 6 = 42\n",
      "7 * 7 = 49\n",
      "7 * 8 = 56\n",
      "7 * 9 = 63\n",
      "7 * 10 = 70\n"
     ]
    }
   ],
   "source": [
    "'''WAP to print the table of 7'''\n",
    "x=7\n",
    "for i in range(1,11):\n",
    "    print(x,'*',i,'=',x*i)"
   ]
  },
  {
   "cell_type": "code",
   "execution_count": 8,
   "id": "45a7144e-d757-4802-8b62-c302c49ae4a2",
   "metadata": {},
   "outputs": [
    {
     "name": "stdout",
     "output_type": "stream",
     "text": [
      "9 * 1 = 9\n",
      "9 * 2 = 18\n",
      "9 * 3 = 27\n",
      "9 * 4 = 36\n",
      "9 * 5 = 45\n",
      "9 * 6 = 54\n",
      "9 * 7 = 63\n",
      "9 * 8 = 72\n",
      "9 * 9 = 81\n",
      "9 * 10 = 90\n"
     ]
    }
   ],
   "source": [
    "'''WAP to print the table of 7'''\n",
    "\n",
    "x=9\n",
    "for i in range(1,11):\n",
    "    print(x,'*',i,'=',x*i)"
   ]
  },
  {
   "cell_type": "code",
   "execution_count": 10,
   "id": "62b33340-c774-4fc4-8939-6f90cfd68524",
   "metadata": {},
   "outputs": [
    {
     "name": "stdout",
     "output_type": "stream",
     "text": [
      "Enter a number: 8\n"
     ]
    },
    {
     "name": "stdout",
     "output_type": "stream",
     "text": [
      "8 * 1 = 8\n",
      "8 * 2 = 16\n",
      "8 * 3 = 24\n",
      "8 * 4 = 32\n",
      "8 * 5 = 40\n",
      "8 * 6 = 48\n",
      "8 * 7 = 56\n",
      "8 * 8 = 64\n",
      "8 * 9 = 72\n",
      "8 * 10 = 80\n"
     ]
    }
   ],
   "source": [
    "'''Take input from user and make the table'''\n",
    "\n",
    "x=int(input('Enter a number:'))\n",
    "for i in range(1,11):\n",
    "    print(x,'*',i,'=',x*i)\n",
    "    "
   ]
  },
  {
   "cell_type": "code",
   "execution_count": 16,
   "id": "ef650f91-aeef-4978-8141-d81e7c218100",
   "metadata": {},
   "outputs": [
    {
     "name": "stdout",
     "output_type": "stream",
     "text": [
      "Enter a number:  7\n"
     ]
    },
    {
     "name": "stdout",
     "output_type": "stream",
     "text": [
      "28\n"
     ]
    }
   ],
   "source": [
    "'''WAP to all the numbers from 1 to n and n is given by user'''\n",
    "\n",
    "n=int(input('Enter a number: '))\n",
    "sum=0\n",
    "for i in range(1,n+1):\n",
    "    sum+=i\n",
    "print(sum)"
   ]
  },
  {
   "cell_type": "code",
   "execution_count": 19,
   "id": "8e578560-a749-4b8a-bc63-a41ea064d2df",
   "metadata": {},
   "outputs": [
    {
     "name": "stdout",
     "output_type": "stream",
     "text": [
      "Enter a number: 2\n",
      "Enter a number: 3\n",
      "Enter a number: 4\n"
     ]
    },
    {
     "name": "stdout",
     "output_type": "stream",
     "text": [
      "The maximum among all three input is  4\n"
     ]
    }
   ],
   "source": [
    "'''WAP to find max among three numbers and input from user.'''\n",
    "a=int(input('Enter a number:'))\n",
    "b=int(input('Enter a number:'))\n",
    "c=int(input('Enter a number:'))\n",
    "print(\"The maximum among all three input is \",max(a,max(b,c)))"
   ]
  },
  {
   "cell_type": "code",
   "execution_count": 29,
   "id": "02f91ab1-8066-48c8-820d-3f55b7f6e512",
   "metadata": {},
   "outputs": [
    {
     "name": "stdout",
     "output_type": "stream",
     "text": [
      "Enter a number:  100\n"
     ]
    },
    {
     "name": "stdout",
     "output_type": "stream",
     "text": [
      "63\n"
     ]
    }
   ],
   "source": [
    "'''WAP to add all numbers divided by 7 and 9 from 1 to n and n is given by the user.'''\n",
    "\n",
    "sum = 0\n",
    "z=int(input('Enter a number: '))\n",
    "for i in range(1,z):\n",
    "    if(i%7==0 and i%9==0):\n",
    "        sum+=i\n",
    "print(sum)"
   ]
  },
  {
   "cell_type": "code",
   "execution_count": 48,
   "id": "51d0a26c-e363-4362-93f7-1dc1e053d2ce",
   "metadata": {},
   "outputs": [
    {
     "name": "stdout",
     "output_type": "stream",
     "text": [
      "Enter the number:  7\n"
     ]
    },
    {
     "name": "stdout",
     "output_type": "stream",
     "text": [
      "[2, 3, 4, 5, 6, 7]\n",
      "27\n"
     ]
    }
   ],
   "source": [
    "'''WAP to add all the prime numbers from 1 to n and n is given by the user.'''\n",
    "\n",
    "sum=0\n",
    "list = []\n",
    "p=int(input(\"Enter the number: \"))\n",
    "for i in range(2,p+1):\n",
    "    isPrime = True\n",
    "    for j in range(i,int(i**0.5)+1):\n",
    "        if(i%j==0):\n",
    "            is_prime=False\n",
    "            break\n",
    "    if(isPrime==True):\n",
    "        list.append(i)\n",
    "        sum+=i\n",
    "print(list)\n",
    "print(sum)"
   ]
  },
  {
   "cell_type": "code",
   "execution_count": 52,
   "id": "925d385a-017e-4e75-a101-96e95c59f576",
   "metadata": {},
   "outputs": [
    {
     "name": "stdout",
     "output_type": "stream",
     "text": [
      "Enter any number: 15\n"
     ]
    },
    {
     "name": "stdout",
     "output_type": "stream",
     "text": [
      "[1, 3, 5, 7, 9, 11, 13, 15]\n",
      "Sum of odd numbers from 1 to  15 is 64\n"
     ]
    }
   ],
   "source": [
    "'''WAP using function that add all odd numbers from 1 to n,n is given by the user'''\n",
    "\n",
    "def odd_sum(n):\n",
    "    list = []\n",
    "    sum=0\n",
    "    for i in range(1,n+1):\n",
    "        if(i%2!=0):\n",
    "            sum+=i\n",
    "            list.append(i)\n",
    "    print(list)\n",
    "    return sum\n",
    "n=int(input('Enter any number:'))\n",
    "print('Sum of odd numbers from 1 to ',n,'is',odd_sum(n))"
   ]
  }
 ],
 "metadata": {
  "kernelspec": {
   "display_name": "Python 3",
   "language": "python",
   "name": "python3"
  },
  "language_info": {
   "codemirror_mode": {
    "name": "ipython",
    "version": 3
   },
   "file_extension": ".py",
   "mimetype": "text/x-python",
   "name": "python",
   "nbconvert_exporter": "python",
   "pygments_lexer": "ipython3",
   "version": "3.12.8"
  }
 },
 "nbformat": 4,
 "nbformat_minor": 5
}
