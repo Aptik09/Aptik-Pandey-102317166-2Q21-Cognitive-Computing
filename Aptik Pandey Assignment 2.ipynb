{
 "cells": [
  {
   "cell_type": "code",
   "execution_count": 2,
   "id": "ca64531d-6083-4e99-b92f-792997095175",
   "metadata": {},
   "outputs": [
    {
     "name": "stdout",
     "output_type": "stream",
     "text": [
      "Initial List: [10, 20, 30, 40, 50, 60, 70, 80]\n",
      "After adding 200 and 300: [10, 20, 30, 40, 50, 60, 70, 80, 200, 300]\n",
      "After removing 10 and 30: [20, 40, 50, 60, 70, 80, 200, 300]\n",
      "Sorted in ascending order: [20, 40, 50, 60, 70, 80, 200, 300]\n",
      "Sorted in descending order: [300, 200, 80, 70, 60, 50, 40, 20]\n"
     ]
    }
   ],
   "source": [
    "# 1. Create a List L that is defined as [10, 20, 30, 40, 50, 60, 70, 80]\n",
    "L = [10, 20, 30, 40, 50, 60, 70, 80]\n",
    "print(\"Initial List:\", L)\n",
    "\n",
    "# i. WAP to add 200 and 300 to L.\n",
    "L.append(200)\n",
    "L.append(300)\n",
    "print(\"After adding 200 and 300:\", L)\n",
    "\n",
    "# ii. WAP to remove 10 and 30 from L.\n",
    "L.remove(10)\n",
    "L.remove(30)\n",
    "print(\"After removing 10 and 30:\", L)\n",
    "\n",
    "# iii. WAP to sort L in ascending order.\n",
    "L.sort()\n",
    "print(\"Sorted in ascending order:\", L)\n",
    "\n",
    "# iv. WAP to sort L in descending order.\n",
    "L.sort(reverse=True)\n",
    "print(\"Sorted in descending order:\", L)\n"
   ]
  },
  {
   "cell_type": "code",
   "execution_count": 3,
   "id": "1dce9a9a-972f-4c85-adf3-71f0eed76b83",
   "metadata": {},
   "outputs": [
    {
     "name": "stdout",
     "output_type": "stream",
     "text": [
      "Scores tuple: (45, 89.5, 76, 45.4, 89, 92, 58, 45)\n",
      "Highest score: 92 at index: 5\n",
      "Lowest score: 45 appears 2 times\n",
      "Reversed tuple as list: [45, 58, 92, 89, 45.4, 76, 89.5, 45]\n"
     ]
    },
    {
     "name": "stdin",
     "output_type": "stream",
     "text": [
      "Enter the score to check (e.g., 76):  22\n"
     ]
    },
    {
     "name": "stdout",
     "output_type": "stream",
     "text": [
      "Score 22 is not present in the tuple.\n"
     ]
    }
   ],
   "source": [
    "# 2. Create a tuple of marks scored\n",
    "scores = (45, 89.5, 76, 45.4, 89, 92, 58, 45)\n",
    "print(\"Scores tuple:\", scores)\n",
    "\n",
    "# i. Identify the highest score and its index\n",
    "highest_score = max(scores)\n",
    "highest_index = scores.index(highest_score)\n",
    "print(\"Highest score:\", highest_score, \"at index:\", highest_index)\n",
    "\n",
    "# ii. Find the lowest score and count how many times it appears\n",
    "lowest_score = min(scores)\n",
    "lowest_count = scores.count(lowest_score)\n",
    "print(\"Lowest score:\", lowest_score, \"appears\", lowest_count, \"times\")\n",
    "\n",
    "# iii. Reverse the tuple and return it as a list\n",
    "reversed_list = list(scores[::-1])\n",
    "print(\"Reversed tuple as list:\", reversed_list)\n",
    "\n",
    "# iv. Check if a specific score (76) is present and print its first occurrence index\n",
    "user_input = int(input(\"Enter the score to check (e.g., 76): \"))\n",
    "\n",
    "if user_input in scores:\n",
    "    print(f\"Score {user_input} found at index:\", scores.index(user_input))\n",
    "else:\n",
    "    print(f\"Score {user_input} is not present in the tuple.\")\n"
   ]
  },
  {
   "cell_type": "code",
   "execution_count": 4,
   "id": "a18f6aa2-554e-49ad-807f-25a5549acbb6",
   "metadata": {},
   "outputs": [
    {
     "name": "stdout",
     "output_type": "stream",
     "text": [
      "Generated numbers: [342, 624, 405, 242, 718, 818, 459, 275, 168, 222, 148, 723, 638, 657, 422, 418, 732, 418, 272, 461, 305, 727, 267, 380, 884, 522, 797, 295, 145, 806, 393, 305, 844, 154, 538, 837, 148, 727, 577, 339, 392, 100, 388, 681, 272, 146, 308, 229, 816, 867, 308, 153, 378, 572, 323, 363, 667, 179, 790, 147, 682, 512, 502, 436, 757, 180, 481, 866, 194, 409, 760, 851, 751, 706, 469, 337, 199, 372, 222, 414, 855, 444, 215, 259, 142, 878, 599, 293, 672, 343, 597, 555, 507, 441, 218, 633, 138, 615, 314, 551]\n",
      "Odd numbers: [405, 459, 275, 723, 657, 461, 305, 727, 267, 797, 295, 145, 393, 305, 837, 727, 577, 339, 681, 229, 867, 153, 323, 363, 667, 179, 147, 757, 481, 409, 851, 751, 469, 337, 199, 855, 215, 259, 599, 293, 343, 597, 555, 507, 441, 633, 615, 551]\n",
      "Total odd numbers: 48\n",
      "Even numbers: [342, 624, 242, 718, 818, 168, 222, 148, 638, 422, 418, 732, 418, 272, 380, 884, 522, 806, 844, 154, 538, 148, 392, 100, 388, 272, 146, 308, 816, 308, 378, 572, 790, 682, 512, 502, 436, 180, 866, 194, 760, 706, 372, 222, 414, 444, 142, 878, 672, 218, 138, 314]\n",
      "Total even numbers: 52\n",
      "Prime numbers: [461, 727, 797, 727, 577, 229, 179, 757, 409, 751, 337, 199, 599, 293]\n",
      "Total prime numbers: 14\n"
     ]
    }
   ],
   "source": [
    "import random\n",
    "\n",
    "# 3. Create a list of 100 random numbers between 100 and 900\n",
    "numbers = [random.randint(100, 900) for _ in range(100)]\n",
    "print(\"Generated numbers:\", numbers)\n",
    "\n",
    "# i. Find all odd numbers\n",
    "odd_numbers = [num for num in numbers if num % 2 != 0]\n",
    "print(\"Odd numbers:\", odd_numbers)\n",
    "print(\"Total odd numbers:\", len(odd_numbers))\n",
    "\n",
    "# ii. Find all even numbers\n",
    "even_numbers = [num for num in numbers if num % 2 == 0]\n",
    "print(\"Even numbers:\", even_numbers)\n",
    "print(\"Total even numbers:\", len(even_numbers))\n",
    "\n",
    "# iii. Find all prime numbers\n",
    "def is_prime(n):\n",
    "    if n < 2:\n",
    "        return False\n",
    "    for i in range(2, int(n ** 0.5) + 1):\n",
    "        if n % i == 0:\n",
    "            return False\n",
    "    return True\n",
    "\n",
    "prime_numbers = [num for num in numbers if is_prime(num)]\n",
    "print(\"Prime numbers:\", prime_numbers)\n",
    "print(\"Total prime numbers:\", len(prime_numbers))\n"
   ]
  },
  {
   "cell_type": "code",
   "execution_count": 6,
   "id": "2252311e-de31-4671-9550-85ed64788c9c",
   "metadata": {},
   "outputs": [
    {
     "name": "stdout",
     "output_type": "stream",
     "text": [
      "Set A: {56, 34, 90, 78}\n",
      "Set B: {90, 45, 78, 23}\n",
      "Union of A and B (Unique scores): {34, 45, 78, 23, 56, 90}\n",
      "Intersection of A and B (Common scores): {90, 78}\n",
      "Exclusive scores (Symmetric Difference): {34, 45, 23, 56}\n",
      "Are the scores of team A a subset of team B? False\n",
      "Are the scores of team B a superset of team A? False\n"
     ]
    },
    {
     "name": "stdin",
     "output_type": "stream",
     "text": [
      "Enter the score to remove from set A:  34\n"
     ]
    },
    {
     "name": "stdout",
     "output_type": "stream",
     "text": [
      "Score 34 removed from set A.\n",
      "Updated Set A: {56, 90, 78}\n"
     ]
    }
   ],
   "source": [
    "# 4. Define the sets A and B\n",
    "A = {34, 56, 78, 90}\n",
    "B = {78, 45, 90, 23}\n",
    "print(\"Set A:\", A)\n",
    "print(\"Set B:\", B)\n",
    "\n",
    "# i. Find the unique scores achieved by both teams (union of sets)\n",
    "union_scores = A.union(B)\n",
    "print(\"Union of A and B (Unique scores):\", union_scores)\n",
    "\n",
    "# ii. Identify the scores that are common to both teams (intersection of sets)\n",
    "intersection_scores = A.intersection(B)\n",
    "print(\"Intersection of A and B (Common scores):\", intersection_scores)\n",
    "\n",
    "# iii. Find the scores that are exclusive to each team (symmetric difference)\n",
    "exclusive_scores = A.symmetric_difference(B)\n",
    "print(\"Exclusive scores (Symmetric Difference):\", exclusive_scores)\n",
    "\n",
    "# iv. Check if the scores of team A are a subset of team B\n",
    "is_subset = A.issubset(B)\n",
    "print(\"Are the scores of team A a subset of team B?\", is_subset)\n",
    "\n",
    "# v. Check if team B's scores are a superset of team A\n",
    "is_superset = B.issuperset(A)\n",
    "print(\"Are the scores of team B a superset of team A?\", is_superset)\n",
    "\n",
    "# vi. Remove a specific score X from set A if it exists\n",
    "X = int(input(\"Enter the score to remove from set A: \"))\n",
    "if X in A:\n",
    "    A.remove(X)\n",
    "    print(f\"Score {X} removed from set A.\")\n",
    "else:\n",
    "    print(f\"Score {X} is not present in set A.\")\n",
    "\n",
    "# Final output of set A after removal operation\n",
    "print(\"Updated Set A:\", A)\n"
   ]
  },
  {
   "cell_type": "code",
   "execution_count": 7,
   "id": "4658dc13-9c91-48dc-b834-5939c011ac26",
   "metadata": {},
   "outputs": [
    {
     "name": "stdout",
     "output_type": "stream",
     "text": [
      "{'name': 'kelly', 'age': 25, 'salary': 8000, 'location': 'New york'}\n"
     ]
    }
   ],
   "source": [
    "# 5. Rename key 'city' to 'location' in the dictionary\n",
    "sample_dict = {\n",
    "    \"name\": \"kelly\",\n",
    "    \"age\": 25,\n",
    "    \"salary\": 8000,\n",
    "    \"city\": \"New york\"\n",
    "}\n",
    "\n",
    "# Rename the key\n",
    "sample_dict[\"location\"] = sample_dict.pop(\"city\")\n",
    "\n",
    "# Print the updated dictionary\n",
    "print(sample_dict)\n"
   ]
  },
  {
   "cell_type": "code",
   "execution_count": null,
   "id": "54f20b95-cf2e-4343-a08e-16b005f86c86",
   "metadata": {},
   "outputs": [],
   "source": []
  }
 ],
 "metadata": {
  "kernelspec": {
   "display_name": "Python 3 (ipykernel)",
   "language": "python",
   "name": "python3"
  },
  "language_info": {
   "codemirror_mode": {
    "name": "ipython",
    "version": 3
   },
   "file_extension": ".py",
   "mimetype": "text/x-python",
   "name": "python",
   "nbconvert_exporter": "python",
   "pygments_lexer": "ipython3",
   "version": "3.13.1"
  }
 },
 "nbformat": 4,
 "nbformat_minor": 5
}
